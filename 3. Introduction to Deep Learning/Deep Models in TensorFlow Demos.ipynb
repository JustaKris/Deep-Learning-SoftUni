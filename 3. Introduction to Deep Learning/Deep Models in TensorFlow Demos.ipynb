{
 "cells": [
  {
   "cell_type": "code",
   "execution_count": 1,
   "id": "c0ffb857",
   "metadata": {},
   "outputs": [],
   "source": [
    "%matplotlib inline"
   ]
  },
  {
   "cell_type": "code",
   "execution_count": 30,
   "id": "74e3696d",
   "metadata": {},
   "outputs": [],
   "source": [
    "import numpy as np\n",
    "import pandas as pd\n",
    "import matplotlib.pyplot as plt\n",
    "\n",
    "import tensorflow as tf\n",
    "\n",
    "from tensorflow.keras.datasets import mnist\n",
    "\n",
    "\n",
    "from tensorflow.keras.models import Sequential\n",
    "from tensorflow.keras.layers import Input, Dense, Flatten, Dropout\n",
    "\n",
    "from tensorflow.keras.callbacks import TensorBoard"
   ]
  },
  {
   "cell_type": "markdown",
   "id": "670cda18",
   "metadata": {},
   "source": [
    "# Deep Models in TensorFlow\n",
    "## Live Demos"
   ]
  },
  {
   "cell_type": "code",
   "execution_count": 39,
   "id": "7ea87c3e",
   "metadata": {},
   "outputs": [],
   "source": [
    "(attributes_train, labels_train), (attributes_test, labels_test) = mnist.load_data()"
   ]
  },
  {
   "cell_type": "code",
   "execution_count": 12,
   "id": "6b8e30b8",
   "metadata": {},
   "outputs": [
    {
     "data": {
      "text/plain": [
       "<matplotlib.image.AxesImage at 0x2a152b72bb0>"
      ]
     },
     "execution_count": 12,
     "metadata": {},
     "output_type": "execute_result"
    },
    {
     "data": {
      "image/png": "[encoded data removed]",
      "text/plain": [
       "<Figure size 432x288 with 1 Axes>"
      ]
     },
     "metadata": {
      "needs_background": "light"
     },
     "output_type": "display_data"
    }
   ],
   "source": [
    "plt.imshow(attributes_train[0], cmap = \"gray\")"
   ]
  },
  {
   "cell_type": "code",
   "execution_count": 16,
   "id": "aeb60c8c",
   "metadata": {},
   "outputs": [
    {
     "data": {
      "image/png": "[encoded data removed]",
      "text/plain": [
       "<Figure size 432x288 with 1 Axes>"
      ]
     },
     "metadata": {
      "needs_background": "light"
     },
     "output_type": "display_data"
    }
   ],
   "source": [
    "for i in range(10):\n",
    "    plt.imshow(attributes_train[i], cmap = \"gray\")"
   ]
  },
  {
   "cell_type": "code",
   "execution_count": 15,
   "id": "f6e3b06f",
   "metadata": {},
   "outputs": [
    {
     "data": {
      "text/plain": [
       "{0, 1, 2, 3, 4, 5, 6, 7, 8, 9}"
      ]
     },
     "execution_count": 15,
     "metadata": {},
     "output_type": "execute_result"
    }
   ],
   "source": [
    "set(labels_train)"
   ]
  },
  {
   "cell_type": "code",
   "execution_count": 19,
   "id": "b1ef07b3",
   "metadata": {},
   "outputs": [],
   "source": [
    "attributes_train = attributes_train / 255.0\n",
    "attributes_test = attributes_test / 255.0"
   ]
  },
  {
   "cell_type": "code",
   "execution_count": 40,
   "id": "899aec10",
   "metadata": {},
   "outputs": [],
   "source": [
    "attributes_validation, labels_validation = attributes_test[:5000], labels_test[:5000]\n",
    "attributes_test, labels_test = attributes_test[5000:], labels_test[5000:]"
   ]
  },
  {
   "cell_type": "code",
   "execution_count": 33,
   "id": "442985a4",
   "metadata": {},
   "outputs": [],
   "source": [
    "tf.keras.backend.clear_session()"
   ]
  },
  {
   "cell_type": "code",
   "execution_count": 34,
   "id": "418746bf",
   "metadata": {},
   "outputs": [],
   "source": [
    "model = Sequential([\n",
    "    Input(shape = (28, 28)),\n",
    "    Flatten(),\n",
    "    \n",
    "    Dense(64, activation = \"relu\"),\n",
    "    Dropout(0.1),\n",
    "    Dense(32, activation = \"relu\"),\n",
    "    Dropout(0.1),\n",
    "    Dense(16, activation = \"relu\"),\n",
    "    Dropout(0.1),\n",
    "    \n",
    "    Dense(10, activation = \"softmax\")\n",
    "])"
   ]
  },
  {
   "cell_type": "code",
   "execution_count": 35,
   "id": "6f1a55a1",
   "metadata": {},
   "outputs": [
    {
     "name": "stdout",
     "output_type": "stream",
     "text": [
      "Model: \"sequential\"\n",
      "_________________________________________________________________\n",
      " Layer (type)                Output Shape              Param #   \n",
      "=================================================================\n",
      " flatten (Flatten)           (None, 784)               0         \n",
      "                                                                 \n",
      " dense (Dense)               (None, 64)                50240     \n",
      "                                                                 \n",
      " dropout (Dropout)           (None, 64)                0         \n",
      "                                                                 \n",
      " dense_1 (Dense)             (None, 32)                2080      \n",
      "                                                                 \n",
      " dropout_1 (Dropout)         (None, 32)                0         \n",
      "                                                                 \n",
      " dense_2 (Dense)             (None, 16)                528       \n",
      "                                                                 \n",
      " dropout_2 (Dropout)         (None, 16)                0         \n",
      "                                                                 \n",
      " dense_3 (Dense)             (None, 10)                170       \n",
      "                                                                 \n",
      "=================================================================\n",
      "Total params: 53,018\n",
      "Trainable params: 53,018\n",
      "Non-trainable params: 0\n",
      "_________________________________________________________________\n"
     ]
    }
   ],
   "source": [
    "model.summary()"
   ]
  },
  {
   "cell_type": "code",
   "execution_count": 36,
   "id": "b86d8730",
   "metadata": {},
   "outputs": [],
   "source": [
    "model.compile(\n",
    "    optimizer = \"adam\",\n",
    "    loss = \"sparse_categorical_crossentropy\",\n",
    "    metrics = [\"accuracy\"],\n",
    ")"
   ]
  },
  {
   "cell_type": "code",
   "execution_count": 44,
   "id": "14d73533",
   "metadata": {},
   "outputs": [
    {
     "name": "stdout",
     "output_type": "stream",
     "text": [
      "Epoch 1/50\n",
      "1875/1875 [==============================] - 2s 1ms/step - loss: 3.1335 - accuracy: 0.9536 - val_loss: 2.5630 - val_accuracy: 0.9458\n",
      "Epoch 2/50\n",
      "1875/1875 [==============================] - 2s 1ms/step - loss: 0.6162 - accuracy: 0.9403 - val_loss: 1.5271 - val_accuracy: 0.9456\n",
      "Epoch 3/50\n",
      "1875/1875 [==============================] - 2s 956us/step - loss: 0.4218 - accuracy: 0.9317 - val_loss: 0.7592 - val_accuracy: 0.9444\n",
      "Epoch 4/50\n",
      "1875/1875 [==============================] - 2s 954us/step - loss: 0.3542 - accuracy: 0.9296 - val_loss: 0.6723 - val_accuracy: 0.9438\n",
      "Epoch 5/50\n",
      "1875/1875 [==============================] - 2s 941us/step - loss: 0.2811 - accuracy: 0.9402 - val_loss: 0.6133 - val_accuracy: 0.9502\n",
      "Epoch 6/50\n",
      "1875/1875 [==============================] - 2s 937us/step - loss: 0.2442 - accuracy: 0.9454 - val_loss: 0.4646 - val_accuracy: 0.9508\n",
      "Epoch 7/50\n",
      "1875/1875 [==============================] - 2s 943us/step - loss: 0.2044 - accuracy: 0.9497 - val_loss: 0.6360 - val_accuracy: 0.9504\n",
      "Epoch 8/50\n",
      "1875/1875 [==============================] - 2s 946us/step - loss: 0.1795 - accuracy: 0.9566 - val_loss: 0.4373 - val_accuracy: 0.9556\n",
      "Epoch 9/50\n",
      "1875/1875 [==============================] - 2s 935us/step - loss: 0.1607 - accuracy: 0.9586 - val_loss: 0.7120 - val_accuracy: 0.9512\n",
      "Epoch 10/50\n",
      "1875/1875 [==============================] - 2s 942us/step - loss: 0.1632 - accuracy: 0.9582 - val_loss: 0.4408 - val_accuracy: 0.9512\n",
      "Epoch 11/50\n",
      "1875/1875 [==============================] - 2s 950us/step - loss: 0.1521 - accuracy: 0.9614 - val_loss: 0.2770 - val_accuracy: 0.9544\n",
      "Epoch 12/50\n",
      "1875/1875 [==============================] - 2s 952us/step - loss: 0.1338 - accuracy: 0.9641 - val_loss: 0.3442 - val_accuracy: 0.9576\n",
      "Epoch 13/50\n",
      "1875/1875 [==============================] - 2s 955us/step - loss: 0.1272 - accuracy: 0.9664 - val_loss: 0.3365 - val_accuracy: 0.9550\n",
      "Epoch 14/50\n",
      "1875/1875 [==============================] - 2s 958us/step - loss: 0.1244 - accuracy: 0.9672 - val_loss: 0.2978 - val_accuracy: 0.9554\n",
      "Epoch 15/50\n",
      "1875/1875 [==============================] - 2s 954us/step - loss: 0.1192 - accuracy: 0.9697 - val_loss: 0.2660 - val_accuracy: 0.9604\n",
      "Epoch 16/50\n",
      "1875/1875 [==============================] - 2s 954us/step - loss: 0.1225 - accuracy: 0.9672 - val_loss: 0.2761 - val_accuracy: 0.9594\n",
      "Epoch 17/50\n",
      "1875/1875 [==============================] - 2s 955us/step - loss: 0.1057 - accuracy: 0.9711 - val_loss: 0.2864 - val_accuracy: 0.9600\n",
      "Epoch 18/50\n",
      "1875/1875 [==============================] - 2s 951us/step - loss: 0.1093 - accuracy: 0.9717 - val_loss: 0.2881 - val_accuracy: 0.9592\n",
      "Epoch 19/50\n",
      "1875/1875 [==============================] - 2s 952us/step - loss: 0.1069 - accuracy: 0.9708 - val_loss: 0.2238 - val_accuracy: 0.9612\n",
      "Epoch 20/50\n",
      "1875/1875 [==============================] - 2s 940us/step - loss: 0.0954 - accuracy: 0.9725 - val_loss: 0.2822 - val_accuracy: 0.9606\n",
      "Epoch 21/50\n",
      "1875/1875 [==============================] - 2s 952us/step - loss: 0.1081 - accuracy: 0.9722 - val_loss: 0.2824 - val_accuracy: 0.9572\n",
      "Epoch 22/50\n",
      "1875/1875 [==============================] - 2s 946us/step - loss: 0.0974 - accuracy: 0.9739 - val_loss: 0.3189 - val_accuracy: 0.9610\n",
      "Epoch 23/50\n",
      "1875/1875 [==============================] - 2s 941us/step - loss: 0.1000 - accuracy: 0.9732 - val_loss: 0.2233 - val_accuracy: 0.9658\n",
      "Epoch 24/50\n",
      "1875/1875 [==============================] - 2s 944us/step - loss: 0.0896 - accuracy: 0.9756 - val_loss: 0.2825 - val_accuracy: 0.9604\n",
      "Epoch 25/50\n",
      "1875/1875 [==============================] - 2s 943us/step - loss: 0.0993 - accuracy: 0.9739 - val_loss: 0.3070 - val_accuracy: 0.9624\n",
      "Epoch 26/50\n",
      "1875/1875 [==============================] - 2s 964us/step - loss: 0.0852 - accuracy: 0.9773 - val_loss: 0.2424 - val_accuracy: 0.9602\n",
      "Epoch 27/50\n",
      "1875/1875 [==============================] - 2s 969us/step - loss: 0.0872 - accuracy: 0.9768 - val_loss: 0.2446 - val_accuracy: 0.9648\n",
      "Epoch 28/50\n",
      "1875/1875 [==============================] - 2s 958us/step - loss: 0.0938 - accuracy: 0.9758 - val_loss: 0.2531 - val_accuracy: 0.9620\n",
      "Epoch 29/50\n",
      "1875/1875 [==============================] - 2s 963us/step - loss: 0.0820 - accuracy: 0.9772 - val_loss: 0.2515 - val_accuracy: 0.9592\n",
      "Epoch 30/50\n",
      "1875/1875 [==============================] - 2s 951us/step - loss: 0.0830 - accuracy: 0.9773 - val_loss: 0.2299 - val_accuracy: 0.9642\n",
      "Epoch 31/50\n",
      "1875/1875 [==============================] - 2s 962us/step - loss: 0.0826 - accuracy: 0.9785 - val_loss: 0.2925 - val_accuracy: 0.9638\n",
      "Epoch 32/50\n",
      "1875/1875 [==============================] - 2s 969us/step - loss: 0.0845 - accuracy: 0.9785 - val_loss: 0.2586 - val_accuracy: 0.9618\n",
      "Epoch 33/50\n",
      "1875/1875 [==============================] - 2s 953us/step - loss: 0.0843 - accuracy: 0.9783 - val_loss: 0.2818 - val_accuracy: 0.9598\n",
      "Epoch 34/50\n",
      "1875/1875 [==============================] - 2s 971us/step - loss: 0.0820 - accuracy: 0.9778 - val_loss: 0.2862 - val_accuracy: 0.9644\n",
      "Epoch 35/50\n",
      "1875/1875 [==============================] - 2s 956us/step - loss: 0.0781 - accuracy: 0.9794 - val_loss: 0.2929 - val_accuracy: 0.9636\n",
      "Epoch 36/50\n",
      "1875/1875 [==============================] - 2s 980us/step - loss: 0.0809 - accuracy: 0.9789 - val_loss: 0.2480 - val_accuracy: 0.9656\n",
      "Epoch 37/50\n",
      "1875/1875 [==============================] - 2s 966us/step - loss: 0.0832 - accuracy: 0.9772 - val_loss: 0.2739 - val_accuracy: 0.9582\n",
      "Epoch 38/50\n",
      "1875/1875 [==============================] - 2s 966us/step - loss: 0.0807 - accuracy: 0.9786 - val_loss: 0.2699 - val_accuracy: 0.9680\n",
      "Epoch 39/50\n",
      "1875/1875 [==============================] - 2s 965us/step - loss: 0.0786 - accuracy: 0.9790 - val_loss: 0.2544 - val_accuracy: 0.9624\n",
      "Epoch 40/50\n",
      "1875/1875 [==============================] - 2s 964us/step - loss: 0.0815 - accuracy: 0.9790 - val_loss: 0.2725 - val_accuracy: 0.9664\n",
      "Epoch 41/50\n",
      "1875/1875 [==============================] - 2s 964us/step - loss: 0.0778 - accuracy: 0.9799 - val_loss: 0.2560 - val_accuracy: 0.9630\n",
      "Epoch 42/50\n",
      "1875/1875 [==============================] - 2s 967us/step - loss: 0.0723 - accuracy: 0.9803 - val_loss: 0.2573 - val_accuracy: 0.9638\n",
      "Epoch 43/50\n",
      "1875/1875 [==============================] - 2s 969us/step - loss: 0.0731 - accuracy: 0.9807 - val_loss: 0.2389 - val_accuracy: 0.9624\n",
      "Epoch 44/50\n",
      "1875/1875 [==============================] - 2s 947us/step - loss: 0.0765 - accuracy: 0.9798 - val_loss: 0.2563 - val_accuracy: 0.9634\n",
      "Epoch 45/50\n",
      "1875/1875 [==============================] - 2s 945us/step - loss: 0.0702 - accuracy: 0.9813 - val_loss: 0.2941 - val_accuracy: 0.9660\n",
      "Epoch 46/50\n",
      "1875/1875 [==============================] - 2s 945us/step - loss: 0.0782 - accuracy: 0.9791 - val_loss: 0.2743 - val_accuracy: 0.9634\n",
      "Epoch 47/50\n",
      "1875/1875 [==============================] - 2s 947us/step - loss: 0.0731 - accuracy: 0.9811 - val_loss: 0.2655 - val_accuracy: 0.9650\n",
      "Epoch 48/50\n",
      "1875/1875 [==============================] - 2s 953us/step - loss: 0.0720 - accuracy: 0.9825 - val_loss: 0.2303 - val_accuracy: 0.9648\n",
      "Epoch 49/50\n",
      "1875/1875 [==============================] - 2s 947us/step - loss: 0.0731 - accuracy: 0.9811 - val_loss: 0.2697 - val_accuracy: 0.9648\n",
      "Epoch 50/50\n",
      "1875/1875 [==============================] - 2s 953us/step - loss: 0.0692 - accuracy: 0.9823 - val_loss: 0.2203 - val_accuracy: 0.9628\n"
     ]
    },
    {
     "data": {
      "text/plain": [
       "<keras.callbacks.History at 0x2a156124610>"
      ]
     },
     "execution_count": 44,
     "metadata": {},
     "output_type": "execute_result"
    }
   ],
   "source": [
    "model.fit(\n",
    "    attributes_train, \n",
    "    labels_train, \n",
    "    validation_data =  (attributes_validation, labels_validation),\n",
    "    epochs = 50, \n",
    "    callbacks = [TensorBoard(log_dir=\"./logs_nn\")]\n",
    ")"
   ]
  },
  {
   "cell_type": "code",
   "execution_count": 45,
   "id": "45cd5355",
   "metadata": {},
   "outputs": [
    {
     "data": {
      "text/plain": [
       "[<tf.Variable 'dense/kernel:0' shape=(784, 64) dtype=float32, numpy=\n",
       " array([[-6.6472679e-02,  4.1599058e-02,  2.9495664e-02, ...,\n",
       "          6.2868215e-02, -5.0180357e-02,  7.2930254e-02],\n",
       "        [-3.8812011e-03,  7.1064599e-02, -5.4180771e-03, ...,\n",
       "         -8.3072096e-02, -9.7564086e-03,  7.4834697e-02],\n",
       "        [ 6.6312559e-02, -6.9871604e-02,  5.7483986e-03, ...,\n",
       "          4.0544920e-02,  1.9304745e-02,  7.6087259e-02],\n",
       "        ...,\n",
       "        [-6.8434551e-03,  4.1538261e-02,  6.2667288e-02, ...,\n",
       "         -6.4177245e-02, -5.0782923e-02, -2.1733340e-02],\n",
       "        [-5.7339668e-05, -5.6634024e-02, -3.4902629e-02, ...,\n",
       "          6.1912246e-02,  7.0623942e-02,  3.8894333e-02],\n",
       "        [ 3.2181039e-02,  1.0002822e-02,  6.4094506e-02, ...,\n",
       "         -1.0397077e-02,  7.7408873e-02,  3.0927591e-02]], dtype=float32)>,\n",
       " <tf.Variable 'dense/bias:0' shape=(64,) dtype=float32, numpy=\n",
       " array([-0.91231906, -0.88017434, -0.7368661 ,  0.26581812, -0.12428709,\n",
       "        -0.4820173 , -1.195518  ,  0.5673713 ,  0.19219117, -0.3898249 ,\n",
       "        -0.239973  , -0.7791623 , -0.53828067,  0.49816346, -1.0004046 ,\n",
       "         0.02969112, -0.8433908 , -0.32851183, -1.42573   ,  0.16018671,\n",
       "        -0.00292354, -0.10630868,  0.2673914 , -0.5428856 , -0.04657192,\n",
       "        -0.09335038,  0.52278197,  0.6777909 , -0.24660742, -0.3850922 ,\n",
       "        -0.4061716 , -0.8555943 , -0.10993893,  0.5387864 , -0.8444661 ,\n",
       "        -0.37168425, -0.6334955 , -0.15868434, -0.2854027 ,  0.31544688,\n",
       "         0.0910724 ,  0.87098175, -1.1376119 , -1.1650896 , -1.2552056 ,\n",
       "        -0.1713652 , -1.2704103 , -0.33236971, -0.17480946, -0.01973862,\n",
       "         0.17714621,  0.49433827,  0.53762996,  0.01868486, -1.131516  ,\n",
       "        -0.03141076,  0.6886422 , -1.5133445 ,  0.46309143,  0.1621736 ,\n",
       "         0.20946588, -0.9165348 , -0.1449302 , -0.68543243], dtype=float32)>]"
      ]
     },
     "execution_count": 45,
     "metadata": {},
     "output_type": "execute_result"
    }
   ],
   "source": [
    "model.layers[1].weights"
   ]
  },
  {
   "cell_type": "code",
   "execution_count": null,
   "id": "bd612a24",
   "metadata": {},
   "outputs": [],
   "source": []
  }
 ],
 "metadata": {
  "kernelspec": {
   "display_name": "Python 3",
   "language": "python",
   "name": "python3"
  },
  "language_info": {
   "codemirror_mode": {
    "name": "ipython",
    "version": 3
   },
   "file_extension": ".py",
   "mimetype": "text/x-python",
   "name": "python",
   "nbconvert_exporter": "python",
   "pygments_lexer": "ipython3",
   "version": "3.8.8"
  }
 },
 "nbformat": 4,
 "nbformat_minor": 5
}
