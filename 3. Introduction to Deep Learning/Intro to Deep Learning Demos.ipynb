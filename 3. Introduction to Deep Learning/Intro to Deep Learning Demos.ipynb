{
 "cells": [
  {
   "cell_type": "code",
   "execution_count": 1,
   "id": "cddf4162",
   "metadata": {},
   "outputs": [],
   "source": [
    "%matplotlib inline"
   ]
  },
  {
   "cell_type": "code",
   "execution_count": 3,
   "id": "15300afc",
   "metadata": {},
   "outputs": [],
   "source": [
    "import numpy as np\n",
    "import pandas as pd\n",
    "import matplotlib.pyplot as plt\n",
    "\n",
    "import tensorflow as tf"
   ]
  },
  {
   "cell_type": "markdown",
   "id": "af1ee5c7",
   "metadata": {},
   "source": [
    "# Intro to Deep Learning\n",
    "\n",
    "## Live Demos"
   ]
  },
  {
   "cell_type": "code",
   "execution_count": 4,
   "id": "e18a908a",
   "metadata": {},
   "outputs": [
    {
     "data": {
      "text/plain": [
       "[PhysicalDevice(name='/physical_device:CPU:0', device_type='CPU')]"
      ]
     },
     "execution_count": 4,
     "metadata": {},
     "output_type": "execute_result"
    }
   ],
   "source": [
    "tf.config.list_physical_devices()"
   ]
  },
  {
   "cell_type": "code",
   "execution_count": 5,
   "id": "cba61454",
   "metadata": {},
   "outputs": [],
   "source": [
    "# (2a + 3b) ** 2\n",
    "\n",
    "def compute(a, b):\n",
    "    return tf.pow(tf.add(tf.multiply(2,a), tf.multiply(3, b)), 2)"
   ]
  },
  {
   "cell_type": "code",
   "execution_count": 7,
   "id": "431e7dc0",
   "metadata": {},
   "outputs": [],
   "source": [
    "a = tf.constant(5)\n",
    "b = tf.constant(10)"
   ]
  },
  {
   "cell_type": "code",
   "execution_count": 10,
   "id": "12bd3119",
   "metadata": {},
   "outputs": [
    {
     "data": {
      "text/plain": [
       "tensorflow.python.framework.ops.EagerTensor"
      ]
     },
     "execution_count": 10,
     "metadata": {},
     "output_type": "execute_result"
    }
   ],
   "source": [
    "type(compute(a, b))"
   ]
  },
  {
   "cell_type": "code",
   "execution_count": 11,
   "id": "8fddd501",
   "metadata": {},
   "outputs": [
    {
     "data": {
      "text/plain": [
       "1600"
      ]
     },
     "execution_count": 11,
     "metadata": {},
     "output_type": "execute_result"
    }
   ],
   "source": [
    "compute(a, b).numpy()"
   ]
  },
  {
   "cell_type": "code",
   "execution_count": 13,
   "id": "a684f9b7",
   "metadata": {},
   "outputs": [
    {
     "data": {
      "text/plain": [
       "<tf.Tensor: shape=(4,), dtype=int32, numpy=array([ 196,  361,  576, 1600])>"
      ]
     },
     "execution_count": 13,
     "metadata": {},
     "output_type": "execute_result"
    }
   ],
   "source": [
    "compute([1,2,3,5], [4,5,6,10])"
   ]
  },
  {
   "cell_type": "code",
   "execution_count": 15,
   "id": "1e7865d3",
   "metadata": {},
   "outputs": [
    {
     "data": {
      "text/plain": [
       "<tf.Tensor: shape=(4,), dtype=int32, numpy=array([ 196,  361,  576, 1600])>"
      ]
     },
     "execution_count": 15,
     "metadata": {},
     "output_type": "execute_result"
    }
   ],
   "source": [
    "compute(np.array([1,2,3,5]), np.array([4,5,6,10]))"
   ]
  },
  {
   "cell_type": "code",
   "execution_count": 16,
   "id": "9b664a10",
   "metadata": {},
   "outputs": [
    {
     "data": {
      "text/plain": [
       "<tf.Tensor: shape=(), dtype=int32, numpy=1600>"
      ]
     },
     "execution_count": 16,
     "metadata": {},
     "output_type": "execute_result"
    }
   ],
   "source": [
    "compute(5,10)"
   ]
  },
  {
   "cell_type": "code",
   "execution_count": 29,
   "id": "3b31ba1c",
   "metadata": {},
   "outputs": [],
   "source": [
    "def compute(a,b):\n",
    "    return (2*a+3*b)**2"
   ]
  },
  {
   "cell_type": "code",
   "execution_count": 30,
   "id": "d6ef3e9f",
   "metadata": {},
   "outputs": [
    {
     "data": {
      "text/plain": [
       "169"
      ]
     },
     "execution_count": 30,
     "metadata": {},
     "output_type": "execute_result"
    }
   ],
   "source": [
    "compute(2,3)"
   ]
  },
  {
   "cell_type": "code",
   "execution_count": 31,
   "id": "811c9fe7",
   "metadata": {},
   "outputs": [
    {
     "data": {
      "text/plain": [
       "<tf.Tensor: shape=(), dtype=int32, numpy=1024>"
      ]
     },
     "execution_count": 31,
     "metadata": {},
     "output_type": "execute_result"
    }
   ],
   "source": [
    "compute(1,b)"
   ]
  },
  {
   "cell_type": "code",
   "execution_count": 32,
   "id": "561c6c9d",
   "metadata": {},
   "outputs": [
    {
     "data": {
      "text/plain": [
       "array([ 196,  361,  576, 1600], dtype=int32)"
      ]
     },
     "execution_count": 32,
     "metadata": {},
     "output_type": "execute_result"
    }
   ],
   "source": [
    "compute(np.array([1,2,3,5]), np.array([4,5,6,10]))"
   ]
  },
  {
   "cell_type": "code",
   "execution_count": 33,
   "id": "6997feea",
   "metadata": {},
   "outputs": [],
   "source": [
    "@tf.function\n",
    "def compute(a,b):\n",
    "    return (2*a+3*b)**2"
   ]
  },
  {
   "cell_type": "code",
   "execution_count": 34,
   "id": "b874fc86",
   "metadata": {},
   "outputs": [
    {
     "data": {
      "text/plain": [
       "<tf.Tensor: shape=(), dtype=int32, numpy=169>"
      ]
     },
     "execution_count": 34,
     "metadata": {},
     "output_type": "execute_result"
    }
   ],
   "source": [
    "compute(2,3)"
   ]
  },
  {
   "cell_type": "code",
   "execution_count": 35,
   "id": "4705226a",
   "metadata": {},
   "outputs": [
    {
     "data": {
      "text/plain": [
       "<tf.Tensor: shape=(), dtype=int32, numpy=1024>"
      ]
     },
     "execution_count": 35,
     "metadata": {},
     "output_type": "execute_result"
    }
   ],
   "source": [
    "compute(1,b)"
   ]
  },
  {
   "cell_type": "code",
   "execution_count": 36,
   "id": "77dd1071",
   "metadata": {},
   "outputs": [
    {
     "data": {
      "text/plain": [
       "<tf.Tensor: shape=(4,), dtype=int32, numpy=array([ 196,  361,  576, 1600])>"
      ]
     },
     "execution_count": 36,
     "metadata": {},
     "output_type": "execute_result"
    }
   ],
   "source": [
    "compute(np.array([1,2,3,5]), np.array([4,5,6,10]))"
   ]
  },
  {
   "cell_type": "code",
   "execution_count": 37,
   "id": "40d05245",
   "metadata": {},
   "outputs": [],
   "source": [
    "writer = tf.summary.create_file_writer(\"logs\")\n",
    "a, b = tf.constant([2,3,4]), tf.constant([3,4,5])\n",
    "tf.summary.trace_on(graph=True, profiler = True)\n",
    "result = compute(a,b)\n",
    "print(result.numpy())\n",
    "with writer.asdefault():\n",
    "    tf.summary.trace_export"
   ]
  },
  {
   "cell_type": "code",
   "execution_count": null,
   "id": "1119bc8e",
   "metadata": {},
   "outputs": [],
   "source": []
  }
 ],
 "metadata": {
  "kernelspec": {
   "display_name": "Python 3",
   "language": "python",
   "name": "python3"
  },
  "language_info": {
   "codemirror_mode": {
    "name": "ipython",
    "version": 3
   },
   "file_extension": ".py",
   "mimetype": "text/x-python",
   "name": "python",
   "nbconvert_exporter": "python",
   "pygments_lexer": "ipython3",
   "version": "3.8.8"
  }
 },
 "nbformat": 4,
 "nbformat_minor": 5
}
