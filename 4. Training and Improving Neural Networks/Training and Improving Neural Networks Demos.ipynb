{
 "cells": [
  {
   "cell_type": "code",
   "execution_count": 1,
   "id": "c0ffb857",
   "metadata": {},
   "outputs": [],
   "source": [
    "%matplotlib inline"
   ]
  },
  {
   "cell_type": "code",
   "execution_count": 69,
   "id": "74e3696d",
   "metadata": {},
   "outputs": [],
   "source": [
    "import numpy as np\n",
    "import pandas as pd\n",
    "import matplotlib.pyplot as plt\n",
    "\n",
    "import tensorflow as tf\n",
    "\n",
    "from tensorflow.keras.datasets import fashion_mnist\n",
    "\n",
    "from tensorflow.keras.models import Sequential, Model\n",
    "from tensorflow.keras.layers import Input, Dense, Flatten, Dropout, BatchNormalization\n",
    "\n",
    "from tensorflow.keras.optimizers import Adam\n",
    " \n",
    "from tensorflow.keras.callbacks import TensorBoard"
   ]
  },
  {
   "cell_type": "markdown",
   "id": "670cda18",
   "metadata": {},
   "source": [
    "# Training and Improving Neural Networks\n",
    "## Live Demos"
   ]
  },
  {
   "cell_type": "code",
   "execution_count": 5,
   "id": "16d35c47",
   "metadata": {},
   "outputs": [],
   "source": [
    "(attributes_train, labels_train), (attributes_test, labels_test) = fashion_mnist.load_data()"
   ]
  },
  {
   "cell_type": "code",
   "execution_count": 10,
   "id": "0b27d49f",
   "metadata": {},
   "outputs": [
    {
     "data": {
      "image/png": "[encoded data removed]",
      "text/plain": [
       "<Figure size 432x288 with 1 Axes>"
      ]
     },
     "metadata": {
      "needs_background": "light"
     },
     "output_type": "display_data"
    }
   ],
   "source": [
    "plt.imshow(attributes_train[0], cmap = \"gray\")\n",
    "plt.title(labels_train[0])\n",
    "plt.show()"
   ]
  },
  {
   "cell_type": "code",
   "execution_count": 11,
   "id": "152d3fe6",
   "metadata": {},
   "outputs": [],
   "source": [
    "attributes_train = attributes_train / 255.0\n",
    "attributes_test = attributes_test / 255.0"
   ]
  },
  {
   "cell_type": "code",
   "execution_count": 15,
   "id": "e323a9b3",
   "metadata": {},
   "outputs": [],
   "source": [
    "input_shape = attributes_train[0].shape"
   ]
  },
  {
   "cell_type": "code",
   "execution_count": 12,
   "id": "952bec04",
   "metadata": {},
   "outputs": [
    {
     "data": {
      "text/plain": [
       "{0, 1, 2, 3, 4, 5, 6, 7, 8, 9}"
      ]
     },
     "execution_count": 12,
     "metadata": {},
     "output_type": "execute_result"
    }
   ],
   "source": [
    "set(labels_train)"
   ]
  },
  {
   "cell_type": "code",
   "execution_count": 61,
   "id": "77f545bf",
   "metadata": {},
   "outputs": [],
   "source": [
    "tf.keras.backend.clear_session()"
   ]
  },
  {
   "cell_type": "code",
   "execution_count": 62,
   "id": "2e111525",
   "metadata": {},
   "outputs": [],
   "source": [
    "model = Sequential([\n",
    "    Input(shape = input_shape),\n",
    "    Flatten(),\n",
    "    # Dropout(0.1), # a Dropout after Flatten is in essense feature selection\n",
    "    Dense(units = 128, activation = \"relu\"),\n",
    "    Dropout(0.25),\n",
    "    BatchNormalization(),\n",
    "    Dense(units = 64, activation = \"relu\"),\n",
    "    Dropout(0.1),\n",
    "    Dense(units = 64, activation = \"relu\"),\n",
    "    Dropout(0.1),\n",
    "    BatchNormalization(),\n",
    "    Dense(units = 32, activation = \"relu\"),\n",
    "    Dense(units = 10, activation = \"softmax\")\n",
    "])"
   ]
  },
  {
   "cell_type": "code",
   "execution_count": 63,
   "id": "cae60b49",
   "metadata": {},
   "outputs": [
    {
     "name": "stdout",
     "output_type": "stream",
     "text": [
      "Model: \"sequential\"\n",
      "_________________________________________________________________\n",
      " Layer (type)                Output Shape              Param #   \n",
      "=================================================================\n",
      " flatten (Flatten)           (None, 784)               0         \n",
      "                                                                 \n",
      " dense (Dense)               (None, 128)               100480    \n",
      "                                                                 \n",
      " dropout (Dropout)           (None, 128)               0         \n",
      "                                                                 \n",
      " batch_normalization (BatchN  (None, 128)              512       \n",
      " ormalization)                                                   \n",
      "                                                                 \n",
      " dense_1 (Dense)             (None, 64)                8256      \n",
      "                                                                 \n",
      " dropout_1 (Dropout)         (None, 64)                0         \n",
      "                                                                 \n",
      " dense_2 (Dense)             (None, 64)                4160      \n",
      "                                                                 \n",
      " dropout_2 (Dropout)         (None, 64)                0         \n",
      "                                                                 \n",
      " batch_normalization_1 (Batc  (None, 64)               256       \n",
      " hNormalization)                                                 \n",
      "                                                                 \n",
      " dense_3 (Dense)             (None, 32)                2080      \n",
      "                                                                 \n",
      " dense_4 (Dense)             (None, 10)                330       \n",
      "                                                                 \n",
      "=================================================================\n",
      "Total params: 116,074\n",
      "Trainable params: 115,690\n",
      "Non-trainable params: 384\n",
      "_________________________________________________________________\n"
     ]
    }
   ],
   "source": [
    "model.summary()"
   ]
  },
  {
   "cell_type": "code",
   "execution_count": 64,
   "id": "0a4ba198",
   "metadata": {},
   "outputs": [],
   "source": [
    "model.compile(\n",
    "    loss = \"sparse_categorical_crossentropy\", \n",
    "    optimizer = Adam(),\n",
    "    metrics = [\"accuracy\"]\n",
    ")"
   ]
  },
  {
   "cell_type": "code",
   "execution_count": 65,
   "id": "5db8b3b9",
   "metadata": {},
   "outputs": [
    {
     "name": "stdout",
     "output_type": "stream",
     "text": [
      "Epoch 1/50\n",
      "1875/1875 [==============================] - 2s 1ms/step - loss: 0.6935 - accuracy: 0.7488\n",
      "Epoch 2/50\n",
      "1875/1875 [==============================] - 2s 1ms/step - loss: 0.5497 - accuracy: 0.8014\n",
      "Epoch 3/50\n",
      "1875/1875 [==============================] - 2s 1ms/step - loss: 0.5073 - accuracy: 0.8163\n",
      "Epoch 4/50\n",
      "1875/1875 [==============================] - 2s 1ms/step - loss: 0.4874 - accuracy: 0.8226\n",
      "Epoch 5/50\n",
      "1875/1875 [==============================] - 2s 1ms/step - loss: 0.4779 - accuracy: 0.8296\n",
      "Epoch 6/50\n",
      "1875/1875 [==============================] - 2s 1ms/step - loss: 0.4702 - accuracy: 0.8305\n",
      "Epoch 7/50\n",
      "1875/1875 [==============================] - 2s 1ms/step - loss: 0.4560 - accuracy: 0.8363\n",
      "Epoch 8/50\n",
      "1875/1875 [==============================] - 2s 1ms/step - loss: 0.4526 - accuracy: 0.8373\n",
      "Epoch 9/50\n",
      "1875/1875 [==============================] - 2s 1ms/step - loss: 0.4438 - accuracy: 0.8390\n",
      "Epoch 10/50\n",
      "1875/1875 [==============================] - 2s 1ms/step - loss: 0.4392 - accuracy: 0.8418\n",
      "Epoch 11/50\n",
      "1875/1875 [==============================] - 2s 1ms/step - loss: 0.4321 - accuracy: 0.8450\n",
      "Epoch 12/50\n",
      "1875/1875 [==============================] - 2s 1ms/step - loss: 0.4241 - accuracy: 0.8476\n",
      "Epoch 13/50\n",
      "1875/1875 [==============================] - 2s 1ms/step - loss: 0.4196 - accuracy: 0.8503\n",
      "Epoch 14/50\n",
      "1875/1875 [==============================] - 2s 1ms/step - loss: 0.4137 - accuracy: 0.8519\n",
      "Epoch 15/50\n",
      "1875/1875 [==============================] - 2s 1ms/step - loss: 0.4128 - accuracy: 0.8519\n",
      "Epoch 16/50\n",
      "1875/1875 [==============================] - 2s 1ms/step - loss: 0.4085 - accuracy: 0.8528: 0s - loss: 0.4044 - \n",
      "Epoch 17/50\n",
      "1875/1875 [==============================] - 2s 1ms/step - loss: 0.4052 - accuracy: 0.8539\n",
      "Epoch 18/50\n",
      "1875/1875 [==============================] - 2s 1ms/step - loss: 0.4010 - accuracy: 0.8549\n",
      "Epoch 19/50\n",
      "1875/1875 [==============================] - 2s 1ms/step - loss: 0.3940 - accuracy: 0.8569\n",
      "Epoch 20/50\n",
      "1875/1875 [==============================] - 2s 1ms/step - loss: 0.3914 - accuracy: 0.8590\n",
      "Epoch 21/50\n",
      "1875/1875 [==============================] - 2s 1ms/step - loss: 0.3932 - accuracy: 0.8584\n",
      "Epoch 22/50\n",
      "1875/1875 [==============================] - 2s 1ms/step - loss: 0.3898 - accuracy: 0.8591\n",
      "Epoch 23/50\n",
      "1875/1875 [==============================] - 2s 1ms/step - loss: 0.3913 - accuracy: 0.8591\n",
      "Epoch 24/50\n",
      "1875/1875 [==============================] - 2s 1ms/step - loss: 0.3899 - accuracy: 0.8596\n",
      "Epoch 25/50\n",
      "1875/1875 [==============================] - 2s 1ms/step - loss: 0.3860 - accuracy: 0.8594\n",
      "Epoch 26/50\n",
      "1875/1875 [==============================] - 2s 1ms/step - loss: 0.3827 - accuracy: 0.8628\n",
      "Epoch 27/50\n",
      "1875/1875 [==============================] - 2s 1ms/step - loss: 0.3799 - accuracy: 0.8630\n",
      "Epoch 28/50\n",
      "1875/1875 [==============================] - 2s 1ms/step - loss: 0.3756 - accuracy: 0.8633\n",
      "Epoch 29/50\n",
      "1875/1875 [==============================] - 2s 1ms/step - loss: 0.3775 - accuracy: 0.8625\n",
      "Epoch 30/50\n",
      "1875/1875 [==============================] - 2s 1ms/step - loss: 0.3711 - accuracy: 0.8654\n",
      "Epoch 31/50\n",
      "1875/1875 [==============================] - 2s 1ms/step - loss: 0.3756 - accuracy: 0.8656\n",
      "Epoch 32/50\n",
      "1875/1875 [==============================] - 2s 1ms/step - loss: 0.3703 - accuracy: 0.8653\n",
      "Epoch 33/50\n",
      "1875/1875 [==============================] - 2s 1ms/step - loss: 0.3701 - accuracy: 0.8666\n",
      "Epoch 34/50\n",
      "1875/1875 [==============================] - 2s 1ms/step - loss: 0.3657 - accuracy: 0.8677\n",
      "Epoch 35/50\n",
      "1875/1875 [==============================] - 2s 1ms/step - loss: 0.3673 - accuracy: 0.8670\n",
      "Epoch 36/50\n",
      "1875/1875 [==============================] - 2s 1ms/step - loss: 0.3654 - accuracy: 0.8684\n",
      "Epoch 37/50\n",
      "1875/1875 [==============================] - 2s 1ms/step - loss: 0.3626 - accuracy: 0.8694\n",
      "Epoch 38/50\n",
      "1875/1875 [==============================] - 2s 1ms/step - loss: 0.3612 - accuracy: 0.8711\n",
      "Epoch 39/50\n",
      "1875/1875 [==============================] - 2s 1ms/step - loss: 0.3552 - accuracy: 0.8716\n",
      "Epoch 40/50\n",
      "1875/1875 [==============================] - 2s 1ms/step - loss: 0.3588 - accuracy: 0.8678\n",
      "Epoch 41/50\n",
      "1875/1875 [==============================] - 2s 1ms/step - loss: 0.3568 - accuracy: 0.8710\n",
      "Epoch 42/50\n",
      "1875/1875 [==============================] - 2s 1ms/step - loss: 0.3540 - accuracy: 0.8708\n",
      "Epoch 43/50\n",
      "1875/1875 [==============================] - 2s 1ms/step - loss: 0.3552 - accuracy: 0.8706\n",
      "Epoch 44/50\n",
      "1875/1875 [==============================] - 2s 1ms/step - loss: 0.3579 - accuracy: 0.8684\n",
      "Epoch 45/50\n",
      "1875/1875 [==============================] - 2s 1ms/step - loss: 0.3621 - accuracy: 0.8685\n",
      "Epoch 46/50\n",
      "1875/1875 [==============================] - 2s 1ms/step - loss: 0.3594 - accuracy: 0.8671\n",
      "Epoch 47/50\n",
      "1875/1875 [==============================] - 2s 1ms/step - loss: 0.3610 - accuracy: 0.8685\n",
      "Epoch 48/50\n",
      "1875/1875 [==============================] - 2s 1ms/step - loss: 0.3550 - accuracy: 0.8702\n",
      "Epoch 49/50\n",
      "1875/1875 [==============================] - 2s 1ms/step - loss: 0.3550 - accuracy: 0.8703\n",
      "Epoch 50/50\n",
      "1875/1875 [==============================] - 2s 1ms/step - loss: 0.3560 - accuracy: 0.8697\n"
     ]
    },
    {
     "data": {
      "text/plain": [
       "<keras.callbacks.History at 0x1b5b6702370>"
      ]
     },
     "execution_count": 65,
     "metadata": {},
     "output_type": "execute_result"
    }
   ],
   "source": [
    "model.fit(attributes_train, labels_train, epochs = 50, callbacks = [TensorBoard()])"
   ]
  },
  {
   "cell_type": "code",
   "execution_count": 41,
   "id": "59faae7d",
   "metadata": {},
   "outputs": [
    {
     "data": {
      "text/plain": [
       "<tf.Variable 'dense_5/kernel:0' shape=(784, 128) dtype=float32, numpy=\n",
       "array([[-0.04428324, -0.02362998, -0.11377332, ...,  0.07760007,\n",
       "        -0.25486162, -0.07160425],\n",
       "       [ 0.00903537, -0.12105952,  0.6451911 , ..., -0.01792034,\n",
       "         0.31041184, -0.07437824],\n",
       "       [-0.1553001 , -0.1456448 , -0.22247952, ...,  0.11467721,\n",
       "        -0.03710821, -0.54700047],\n",
       "       ...,\n",
       "       [ 0.46151948, -0.02325548,  1.0216516 , ...,  0.66625917,\n",
       "        -0.02326195, -0.20310171],\n",
       "       [ 0.21241881,  0.3398304 , -0.9313705 , ..., -0.16191219,\n",
       "         0.1566859 , -0.3989413 ],\n",
       "       [ 0.10404851,  0.42009327,  0.74788547, ..., -0.1854205 ,\n",
       "         0.5616636 ,  0.18447314]], dtype=float32)>"
      ]
     },
     "execution_count": 41,
     "metadata": {},
     "output_type": "execute_result"
    }
   ],
   "source": [
    "model.layers[1].kernel"
   ]
  },
  {
   "cell_type": "code",
   "execution_count": 42,
   "id": "39a0969c",
   "metadata": {},
   "outputs": [
    {
     "data": {
      "text/plain": [
       "<tf.Variable 'dense_5/bias:0' shape=(128,) dtype=float32, numpy=\n",
       "array([-0.11732363, -0.32994398,  0.14684403,  0.5436539 ,  0.34859312,\n",
       "       -0.01843242, -0.18660839,  0.14272782, -0.65551955,  0.05913848,\n",
       "       -0.343842  , -0.82013893, -0.6066965 ,  0.43494913,  0.18758993,\n",
       "       -1.7129738 ,  0.6127646 ,  0.53632045, -0.40659484,  0.47427616,\n",
       "        0.37622002, -0.8055073 ,  0.11969191, -0.02902803, -0.6114823 ,\n",
       "       -0.44006446,  0.7902905 ,  0.24331431, -0.18405665,  0.22624357,\n",
       "       -1.7018285 , -0.30132046,  1.0017009 , -0.17083266,  0.12991926,\n",
       "        0.7270015 ,  0.7421137 , -0.03305287, -1.3993227 ,  0.0458122 ,\n",
       "       -0.39729157, -0.11545943, -0.01425794,  0.6762024 ,  0.68747044,\n",
       "       -0.8188055 , -1.6809496 ,  0.23235543,  0.29382712, -0.01619927,\n",
       "        0.4659223 ,  0.2803763 ,  0.40806505,  0.26486915, -1.1840148 ,\n",
       "       -0.03895121,  0.30673516,  0.13169931,  0.89355797, -0.18491352,\n",
       "       -0.6553639 , -0.10415539,  0.2553952 , -0.01626834, -1.310621  ,\n",
       "       -0.03260269, -0.01335826, -0.7150174 , -1.0215232 , -0.55084735,\n",
       "        0.5436426 , -0.46570286, -0.01413507,  0.7234714 ,  0.03695381,\n",
       "        0.23991226,  0.65068126, -0.11238737, -0.44588324,  0.4942064 ,\n",
       "        0.34054938, -0.70695627,  0.4219733 ,  0.9255652 , -0.6263987 ,\n",
       "       -0.18526347,  0.34550777,  0.15529193, -0.01213027,  0.16375846,\n",
       "       -0.06533671, -0.01531835,  0.2941901 ,  0.43966848, -1.1637607 ,\n",
       "        0.49795574,  0.40254018, -0.43392986,  0.32943165, -0.51071423,\n",
       "       -0.27651122, -0.02829216,  0.06595759,  0.33452332, -0.32855624,\n",
       "       -1.0776219 ,  0.30122334, -0.33669573,  0.7981059 , -0.01609214,\n",
       "       -1.5024369 ,  0.20147514, -0.00620697,  0.31072956,  0.06728596,\n",
       "       -0.02267516,  0.53493315, -0.10900765,  0.11346222,  0.7177142 ,\n",
       "        0.3199206 , -0.01990587,  0.43362024,  0.1560773 , -0.32384422,\n",
       "        0.34262186,  0.7204813 ,  0.13183813], dtype=float32)>"
      ]
     },
     "execution_count": 42,
     "metadata": {},
     "output_type": "execute_result"
    }
   ],
   "source": [
    "model.layers[1].bias"
   ]
  },
  {
   "cell_type": "code",
   "execution_count": 46,
   "id": "8027656c",
   "metadata": {},
   "outputs": [
    {
     "data": {
      "image/png": "[encoded data removed]",
      "text/plain": [
       "<Figure size 432x288 with 1 Axes>"
      ]
     },
     "metadata": {
      "needs_background": "light"
     },
     "output_type": "display_data"
    }
   ],
   "source": [
    "plt.hist(model.layers[1].kernel.numpy().ravel(), bins = \"fd\")\n",
    "plt.show()"
   ]
  },
  {
   "cell_type": "code",
   "execution_count": 70,
   "id": "501c73f7",
   "metadata": {},
   "outputs": [],
   "source": [
    "activation_demo_model = Model(inputs = [model.input], outputs = [model.layers[4].output])"
   ]
  },
  {
   "cell_type": "code",
   "execution_count": 71,
   "id": "4792f7a9",
   "metadata": {},
   "outputs": [],
   "source": [
    "activations_4_layer = activation_demo_model.predict(attributes_train[:10])"
   ]
  },
  {
   "cell_type": "code",
   "execution_count": 72,
   "id": "684a4f97",
   "metadata": {},
   "outputs": [
    {
     "data": {
      "text/plain": [
       "[0.0,\n",
       " 0.0,\n",
       " 0.0,\n",
       " 0.0,\n",
       " 0.0,\n",
       " 0.0,\n",
       " 0.0,\n",
       " 0.0,\n",
       " 0.0,\n",
       " 0.0,\n",
       " 0.0,\n",
       " 0.0,\n",
       " 0.0,\n",
       " 0.0,\n",
       " 0.0,\n",
       " 0.0,\n",
       " 0.0,\n",
       " 0.0,\n",
       " 0.0,\n",
       " 0.0,\n",
       " 0.0,\n",
       " 0.0,\n",
       " 0.0,\n",
       " 0.0,\n",
       " 0.0,\n",
       " 0.0,\n",
       " 0.0,\n",
       " 0.0,\n",
       " 0.0,\n",
       " 0.0,\n",
       " 0.0,\n",
       " 0.0,\n",
       " 0.0,\n",
       " 0.0,\n",
       " 0.0,\n",
       " 0.0,\n",
       " 0.0,\n",
       " 0.0,\n",
       " 0.0,\n",
       " 0.0,\n",
       " 0.0,\n",
       " 0.0,\n",
       " 0.0,\n",
       " 0.0,\n",
       " 0.0,\n",
       " 0.0,\n",
       " 0.0,\n",
       " 0.0,\n",
       " 0.5722515,\n",
       " 1.2949402,\n",
       " 1.7291209,\n",
       " 1.8452313,\n",
       " 1.931716,\n",
       " 1.9369735,\n",
       " 2.0107946,\n",
       " 2.3740575,\n",
       " 2.6325421,\n",
       " 2.8531597,\n",
       " 3.3027158,\n",
       " 3.359501,\n",
       " 3.36793,\n",
       " 3.8440082,\n",
       " 4.553312,\n",
       " 4.7731595]"
      ]
     },
     "execution_count": 72,
     "metadata": {},
     "output_type": "execute_result"
    }
   ],
   "source": [
    "sorted(activations_4_layer[0])"
   ]
  },
  {
   "cell_type": "code",
   "execution_count": 73,
   "id": "343e5981",
   "metadata": {},
   "outputs": [
    {
     "data": {
      "text/plain": [
       "array([0.        , 2.9051206 , 1.3673755 , 0.6985105 , 0.        ,\n",
       "       2.125379  , 0.80694413, 0.5746973 , 0.        , 0.        ],\n",
       "      dtype=float32)"
      ]
     },
     "execution_count": 73,
     "metadata": {},
     "output_type": "execute_result"
    }
   ],
   "source": [
    "activations_4_layer[:, 45]"
   ]
  },
  {
   "cell_type": "code",
   "execution_count": null,
   "id": "03a65f5a",
   "metadata": {},
   "outputs": [],
   "source": []
  },
  {
   "cell_type": "code",
   "execution_count": null,
   "id": "9fb62959",
   "metadata": {},
   "outputs": [],
   "source": []
  }
 ],
 "metadata": {
  "kernelspec": {
   "display_name": "Python 3",
   "language": "python",
   "name": "python3"
  },
  "language_info": {
   "codemirror_mode": {
    "name": "ipython",
    "version": 3
   },
   "file_extension": ".py",
   "mimetype": "text/x-python",
   "name": "python",
   "nbconvert_exporter": "python",
   "pygments_lexer": "ipython3",
   "version": "3.8.8"
  }
 },
 "nbformat": 4,
 "nbformat_minor": 5
}
